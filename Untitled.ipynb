{
 "cells": [
  {
   "cell_type": "code",
   "execution_count": 1,
   "metadata": {},
   "outputs": [],
   "source": [
    "import pandas as pd\n",
    "from bokeh.sampledata.iris import flowers\n",
    "\n",
    "from bokeh.plotting import figure, show, output_file\n",
    "from bokeh.models import ColumnDataSource, HoverTool\n",
    "\n",
    "colormap = {'setosa': 'red', 'versicolor': 'green', 'virginica': 'blue'}\n",
    "flowers['colors'] = [colormap[x] for x in flowers['species']]\n",
    "\n",
    "hover = HoverTool(tooltips=[\n",
    "    (\"Sepal length\", \"@sepal_length\"),\n",
    "    (\"Sepal width\", \"@sepal_width\"),\n",
    "    (\"Petal length\", \"@petal_length\"),\n",
    "    (\"Species\", \"@species\")\n",
    "    ])\n",
    "\n",
    "p = figure(title = \"Iris Morphology\", plot_height=500, plot_width=500, tools=[hover, \"pan,reset,wheel_zoom\"])\n",
    "\n",
    "p.xaxis.axis_label = 'Petal Length'\n",
    "p.yaxis.axis_label = 'Petal Width'\n",
    "\n",
    "p.circle('petal_length', 'petal_width', color='colors', \n",
    "         fill_alpha=0.2, size=10, source=ColumnDataSource(flowers))\n",
    "\n",
    "output_file('flowers.html')"
   ]
  },
  {
   "cell_type": "code",
   "execution_count": 2,
   "metadata": {},
   "outputs": [],
   "source": [
    "from bokeh.palettes import Spectral6\n",
    "from bokeh.transform import factor_cmap\n",
    "\n",
    "fruits = ['Apples', 'Pears', 'Nectarines', 'Plums', 'Grapes', 'Strawberries']\n",
    "counts = [5, 3, 4, 2, 4, 6]\n",
    "\n",
    "source = ColumnDataSource(data=dict(fruits=fruits, counts=counts))\n",
    "\n",
    "q = figure(x_range=fruits, plot_height=350, toolbar_location=None, title=\"Fruit Counts\")\n",
    "q.vbar(x='fruits', top='counts', width=0.9, source=source, legend=\"fruits\",\n",
    "       line_color='white', fill_color=factor_cmap('fruits', palette=Spectral6, factors=fruits))\n",
    "\n",
    "q.xgrid.grid_line_color = None\n",
    "q.y_range.start = 0\n",
    "q.y_range.end = 9\n",
    "q.legend.orientation = \"horizontal\"\n",
    "q.legend.location = \"top_center\""
   ]
  },
  {
   "cell_type": "code",
   "execution_count": 5,
   "metadata": {},
   "outputs": [
    {
     "name": "stdout",
     "output_type": "stream",
     "text": [
      "\n",
      "<script type=\"text/javascript\">\n",
      "  (function() {\n",
      "    var fn = function() {\n",
      "      Bokeh.safely(function() {\n",
      "        (function(root) {\n",
      "          function embed_document(root) {\n",
      "            \n",
      "          var docs_json = '{\"2d1dce01-3d45-4e46-adb9-4ccf93279083\":{\"roots\":{\"references\":[{\"attributes\":{},\"id\":\"bfaaccd7-a42f-4d40-92e6-6d5d15536fae\",\"type\":\"LinearScale\"},{\"attributes\":{\"data_source\":{\"id\":\"2224f975-2621-4c0f-810e-a9a4b1794cb9\",\"type\":\"ColumnDataSource\"},\"glyph\":{\"id\":\"c5cf7c3c-81ae-477f-967b-37ccf3fee4b9\",\"type\":\"VBar\"},\"hover_glyph\":null,\"muted_glyph\":null,\"nonselection_glyph\":{\"id\":\"56a109b9-2b1b-46eb-924f-ff17c54a3bb7\",\"type\":\"VBar\"},\"selection_glyph\":null,\"view\":{\"id\":\"3ab006c5-5593-4544-8e3d-7a0744870ee4\",\"type\":\"CDSView\"}},\"id\":\"51471040-d57e-4512-963b-2875b4b82cb4\",\"type\":\"GlyphRenderer\"},{\"attributes\":{\"formatter\":{\"id\":\"054df2eb-db15-44f6-b512-53a55eb7d3e2\",\"type\":\"BasicTickFormatter\"},\"plot\":{\"id\":\"78815be7-1dfc-43b9-9d02-cf00fcf8d5a4\",\"subtype\":\"Figure\",\"type\":\"Plot\"},\"ticker\":{\"id\":\"c55e0314-cb88-48b6-ab7b-16cb86339bf2\",\"type\":\"BasicTicker\"}},\"id\":\"cf659a5a-674c-4ebb-a634-5cb98c0dece4\",\"type\":\"LinearAxis\"},{\"attributes\":{},\"id\":\"054df2eb-db15-44f6-b512-53a55eb7d3e2\",\"type\":\"BasicTickFormatter\"},{\"attributes\":{},\"id\":\"c55e0314-cb88-48b6-ab7b-16cb86339bf2\",\"type\":\"BasicTicker\"},{\"attributes\":{\"callback\":null,\"column_names\":[\"fruits\",\"counts\"],\"data\":{\"counts\":[5,3,4,2,4,6],\"fruits\":[\"Apples\",\"Pears\",\"Nectarines\",\"Plums\",\"Grapes\",\"Strawberries\"]},\"selected\":null,\"selection_policy\":null},\"id\":\"2224f975-2621-4c0f-810e-a9a4b1794cb9\",\"type\":\"ColumnDataSource\"},{\"attributes\":{},\"id\":\"bcf8c525-3667-4282-8136-419c9295db16\",\"type\":\"CategoricalTickFormatter\"},{\"attributes\":{\"callback\":null,\"tooltips\":[[\"Sepal length\",\"@sepal_length\"],[\"Sepal width\",\"@sepal_width\"],[\"Petal length\",\"@petal_length\"],[\"Species\",\"@species\"]]},\"id\":\"afe1b1f0-067b-416e-b0d0-f74984b150a9\",\"type\":\"HoverTool\"},{\"attributes\":{},\"id\":\"03ed7cab-26b0-4785-8852-e4a33f126ef3\",\"type\":\"WheelZoomTool\"},{\"attributes\":{},\"id\":\"6275128f-02b9-498b-b306-5af4d226d8bb\",\"type\":\"WheelZoomTool\"},{\"attributes\":{\"axis_label\":\"Petal Width\",\"formatter\":{\"id\":\"9ef5fb74-2a39-4231-9e16-ca861c24bc58\",\"type\":\"BasicTickFormatter\"},\"plot\":{\"id\":\"6f7353d1-0e9e-4136-9a61-bedf90a930fa\",\"subtype\":\"Figure\",\"type\":\"Plot\"},\"ticker\":{\"id\":\"f5e98bb8-1df8-44d8-8cff-120de2ae8c37\",\"type\":\"BasicTicker\"}},\"id\":\"17dfc43c-a059-42fb-8339-11d856a9dfdd\",\"type\":\"LinearAxis\"},{\"attributes\":{},\"id\":\"729345f7-1fbf-4106-83fb-5fe2645a5b2a\",\"type\":\"LinearScale\"},{\"attributes\":{\"fill_alpha\":{\"value\":0.1},\"fill_color\":{\"value\":\"#1f77b4\"},\"line_alpha\":{\"value\":0.1},\"line_color\":{\"value\":\"#1f77b4\"},\"top\":{\"field\":\"counts\"},\"width\":{\"value\":0.9},\"x\":{\"field\":\"fruits\"}},\"id\":\"56a109b9-2b1b-46eb-924f-ff17c54a3bb7\",\"type\":\"VBar\"},{\"attributes\":{\"plot\":null,\"text\":\"Fruit Counts\"},\"id\":\"6da04767-6f1b-4907-ba88-733e2549ad40\",\"type\":\"Title\"},{\"attributes\":{\"label\":{\"field\":\"fruits\"},\"renderers\":[{\"id\":\"51471040-d57e-4512-963b-2875b4b82cb4\",\"type\":\"GlyphRenderer\"}]},\"id\":\"04c84282-68cc-4519-ab85-f2df6da4cab8\",\"type\":\"LegendItem\"},{\"attributes\":{\"active_drag\":\"auto\",\"active_inspect\":\"auto\",\"active_scroll\":\"auto\",\"active_tap\":\"auto\",\"tools\":[{\"id\":\"1510d86d-6251-4b1b-a5f3-bfabde5dd996\",\"type\":\"PanTool\"},{\"id\":\"03ed7cab-26b0-4785-8852-e4a33f126ef3\",\"type\":\"WheelZoomTool\"},{\"id\":\"8669d4e1-85da-46b6-89e2-00367322d8ec\",\"type\":\"BoxZoomTool\"},{\"id\":\"4016bacd-1f70-401e-9bd2-42e53f1d1359\",\"type\":\"SaveTool\"},{\"id\":\"f602155b-5c44-412c-b11c-422391f0f64d\",\"type\":\"ResetTool\"},{\"id\":\"d55da8f5-7b6f-4f82-8b2e-e0224408c2ab\",\"type\":\"HelpTool\"}]},\"id\":\"154d1631-bcc3-4e74-88fb-03caf30442c5\",\"type\":\"Toolbar\"},{\"attributes\":{},\"id\":\"4016bacd-1f70-401e-9bd2-42e53f1d1359\",\"type\":\"SaveTool\"},{\"attributes\":{\"fill_alpha\":{\"value\":0.1},\"fill_color\":{\"value\":\"#1f77b4\"},\"line_alpha\":{\"value\":0.1},\"line_color\":{\"value\":\"#1f77b4\"},\"size\":{\"units\":\"screen\",\"value\":10},\"x\":{\"field\":\"petal_length\"},\"y\":{\"field\":\"petal_width\"}},\"id\":\"805f1767-ad38-4609-993d-e37748f4add4\",\"type\":\"Circle\"},{\"attributes\":{},\"id\":\"f602155b-5c44-412c-b11c-422391f0f64d\",\"type\":\"ResetTool\"},{\"attributes\":{},\"id\":\"94da5d59-9ae6-43f5-a323-dae072e6bcef\",\"type\":\"LinearScale\"},{\"attributes\":{},\"id\":\"6d7dab0f-f176-482b-853f-b5ded06974a7\",\"type\":\"PanTool\"},{\"attributes\":{\"factors\":[\"Apples\",\"Pears\",\"Nectarines\",\"Plums\",\"Grapes\",\"Strawberries\"],\"palette\":[\"#3288bd\",\"#99d594\",\"#e6f598\",\"#fee08b\",\"#fc8d59\",\"#d53e4f\"]},\"id\":\"6a140d15-58a6-4a29-9836-5266c7dc1cfe\",\"type\":\"CategoricalColorMapper\"},{\"attributes\":{},\"id\":\"d55da8f5-7b6f-4f82-8b2e-e0224408c2ab\",\"type\":\"HelpTool\"},{\"attributes\":{},\"id\":\"cb587d92-a58d-48db-afd5-b6aca3b5be94\",\"type\":\"BasicTickFormatter\"},{\"attributes\":{\"source\":{\"id\":\"2224f975-2621-4c0f-810e-a9a4b1794cb9\",\"type\":\"ColumnDataSource\"}},\"id\":\"3ab006c5-5593-4544-8e3d-7a0744870ee4\",\"type\":\"CDSView\"},{\"attributes\":{\"formatter\":{\"id\":\"bcf8c525-3667-4282-8136-419c9295db16\",\"type\":\"CategoricalTickFormatter\"},\"plot\":{\"id\":\"78815be7-1dfc-43b9-9d02-cf00fcf8d5a4\",\"subtype\":\"Figure\",\"type\":\"Plot\"},\"ticker\":{\"id\":\"5015be13-e86e-46b9-bbb5-c24f3268ac70\",\"type\":\"CategoricalTicker\"}},\"id\":\"cc4a1a67-24ea-4a8e-9c3f-51fc470c9131\",\"type\":\"CategoricalAxis\"},{\"attributes\":{\"dimension\":1,\"plot\":{\"id\":\"6f7353d1-0e9e-4136-9a61-bedf90a930fa\",\"subtype\":\"Figure\",\"type\":\"Plot\"},\"ticker\":{\"id\":\"f5e98bb8-1df8-44d8-8cff-120de2ae8c37\",\"type\":\"BasicTicker\"}},\"id\":\"c7791d27-954d-4aed-8bbf-fc0897aa09fa\",\"type\":\"Grid\"},{\"attributes\":{},\"id\":\"f5e98bb8-1df8-44d8-8cff-120de2ae8c37\",\"type\":\"BasicTicker\"},{\"attributes\":{},\"id\":\"aad09ad7-e86b-42ee-ae3b-fd209f36ff30\",\"type\":\"CategoricalScale\"},{\"attributes\":{\"overlay\":{\"id\":\"3b7cf72a-a168-46ca-a921-20a25f71f6a7\",\"type\":\"BoxAnnotation\"}},\"id\":\"8669d4e1-85da-46b6-89e2-00367322d8ec\",\"type\":\"BoxZoomTool\"},{\"attributes\":{},\"id\":\"5015be13-e86e-46b9-bbb5-c24f3268ac70\",\"type\":\"CategoricalTicker\"},{\"attributes\":{\"active_drag\":\"auto\",\"active_inspect\":\"auto\",\"active_scroll\":\"auto\",\"active_tap\":\"auto\",\"tools\":[{\"id\":\"afe1b1f0-067b-416e-b0d0-f74984b150a9\",\"type\":\"HoverTool\"},{\"id\":\"6d7dab0f-f176-482b-853f-b5ded06974a7\",\"type\":\"PanTool\"},{\"id\":\"b9457e5b-a472-4379-b72c-59399f95a407\",\"type\":\"ResetTool\"},{\"id\":\"6275128f-02b9-498b-b306-5af4d226d8bb\",\"type\":\"WheelZoomTool\"}]},\"id\":\"0789df17-10d1-4b2e-a129-fe34cdbf4c10\",\"type\":\"Toolbar\"},{\"attributes\":{\"fill_alpha\":{\"value\":0.2},\"fill_color\":{\"field\":\"colors\"},\"line_color\":{\"field\":\"colors\"},\"size\":{\"units\":\"screen\",\"value\":10},\"x\":{\"field\":\"petal_length\"},\"y\":{\"field\":\"petal_width\"}},\"id\":\"55ab1a3e-3ab5-4f26-8e92-73497a7b770e\",\"type\":\"Circle\"},{\"attributes\":{\"callback\":null,\"end\":9,\"start\":0},\"id\":\"9eb4aa8a-52cf-48d6-b3ff-a4e5cb531d7b\",\"type\":\"DataRange1d\"},{\"attributes\":{},\"id\":\"935d8616-fdfa-4404-b4a7-873ded20c550\",\"type\":\"BasicTicker\"},{\"attributes\":{\"plot\":{\"id\":\"6f7353d1-0e9e-4136-9a61-bedf90a930fa\",\"subtype\":\"Figure\",\"type\":\"Plot\"},\"ticker\":{\"id\":\"935d8616-fdfa-4404-b4a7-873ded20c550\",\"type\":\"BasicTicker\"}},\"id\":\"8b6590c9-ca63-4912-80e0-e06f96ea1799\",\"type\":\"Grid\"},{\"attributes\":{\"bottom_units\":\"screen\",\"fill_alpha\":{\"value\":0.5},\"fill_color\":{\"value\":\"lightgrey\"},\"left_units\":\"screen\",\"level\":\"overlay\",\"line_alpha\":{\"value\":1.0},\"line_color\":{\"value\":\"black\"},\"line_dash\":[4,4],\"line_width\":{\"value\":2},\"plot\":null,\"render_mode\":\"css\",\"right_units\":\"screen\",\"top_units\":\"screen\"},\"id\":\"3b7cf72a-a168-46ca-a921-20a25f71f6a7\",\"type\":\"BoxAnnotation\"},{\"attributes\":{\"fill_color\":{\"field\":\"fruits\",\"transform\":{\"id\":\"6a140d15-58a6-4a29-9836-5266c7dc1cfe\",\"type\":\"CategoricalColorMapper\"}},\"line_color\":{\"value\":\"white\"},\"top\":{\"field\":\"counts\"},\"width\":{\"value\":0.9},\"x\":{\"field\":\"fruits\"}},\"id\":\"c5cf7c3c-81ae-477f-967b-37ccf3fee4b9\",\"type\":\"VBar\"},{\"attributes\":{\"below\":[{\"id\":\"cc4a1a67-24ea-4a8e-9c3f-51fc470c9131\",\"type\":\"CategoricalAxis\"}],\"left\":[{\"id\":\"cf659a5a-674c-4ebb-a634-5cb98c0dece4\",\"type\":\"LinearAxis\"}],\"plot_height\":350,\"renderers\":[{\"id\":\"cc4a1a67-24ea-4a8e-9c3f-51fc470c9131\",\"type\":\"CategoricalAxis\"},{\"id\":\"0c31e95b-cdb7-4f03-88bd-426d07635bc3\",\"type\":\"Grid\"},{\"id\":\"cf659a5a-674c-4ebb-a634-5cb98c0dece4\",\"type\":\"LinearAxis\"},{\"id\":\"bb437c65-2c51-4324-badc-470eed252093\",\"type\":\"Grid\"},{\"id\":\"3b7cf72a-a168-46ca-a921-20a25f71f6a7\",\"type\":\"BoxAnnotation\"},{\"id\":\"05848c49-06ef-4283-a208-5beaca316859\",\"type\":\"Legend\"},{\"id\":\"51471040-d57e-4512-963b-2875b4b82cb4\",\"type\":\"GlyphRenderer\"}],\"title\":{\"id\":\"6da04767-6f1b-4907-ba88-733e2549ad40\",\"type\":\"Title\"},\"toolbar\":{\"id\":\"154d1631-bcc3-4e74-88fb-03caf30442c5\",\"type\":\"Toolbar\"},\"toolbar_location\":null,\"x_range\":{\"id\":\"2d9ab2de-dfff-413c-88c2-4e12ddf20ef9\",\"type\":\"FactorRange\"},\"x_scale\":{\"id\":\"aad09ad7-e86b-42ee-ae3b-fd209f36ff30\",\"type\":\"CategoricalScale\"},\"y_range\":{\"id\":\"9eb4aa8a-52cf-48d6-b3ff-a4e5cb531d7b\",\"type\":\"DataRange1d\"},\"y_scale\":{\"id\":\"729345f7-1fbf-4106-83fb-5fe2645a5b2a\",\"type\":\"LinearScale\"}},\"id\":\"78815be7-1dfc-43b9-9d02-cf00fcf8d5a4\",\"subtype\":\"Figure\",\"type\":\"Plot\"},{\"attributes\":{},\"id\":\"1510d86d-6251-4b1b-a5f3-bfabde5dd996\",\"type\":\"PanTool\"},{\"attributes\":{\"dimension\":1,\"plot\":{\"id\":\"78815be7-1dfc-43b9-9d02-cf00fcf8d5a4\",\"subtype\":\"Figure\",\"type\":\"Plot\"},\"ticker\":{\"id\":\"c55e0314-cb88-48b6-ab7b-16cb86339bf2\",\"type\":\"BasicTicker\"}},\"id\":\"bb437c65-2c51-4324-badc-470eed252093\",\"type\":\"Grid\"},{\"attributes\":{},\"id\":\"9ef5fb74-2a39-4231-9e16-ca861c24bc58\",\"type\":\"BasicTickFormatter\"},{\"attributes\":{},\"id\":\"b9457e5b-a472-4379-b72c-59399f95a407\",\"type\":\"ResetTool\"},{\"attributes\":{\"below\":[{\"id\":\"8b19c898-13d5-4c7b-80d2-3e60bc1624df\",\"type\":\"LinearAxis\"}],\"left\":[{\"id\":\"17dfc43c-a059-42fb-8339-11d856a9dfdd\",\"type\":\"LinearAxis\"}],\"plot_height\":500,\"plot_width\":500,\"renderers\":[{\"id\":\"8b19c898-13d5-4c7b-80d2-3e60bc1624df\",\"type\":\"LinearAxis\"},{\"id\":\"8b6590c9-ca63-4912-80e0-e06f96ea1799\",\"type\":\"Grid\"},{\"id\":\"17dfc43c-a059-42fb-8339-11d856a9dfdd\",\"type\":\"LinearAxis\"},{\"id\":\"c7791d27-954d-4aed-8bbf-fc0897aa09fa\",\"type\":\"Grid\"},{\"id\":\"1e92f14a-8326-4cd7-aad9-9576f756f30e\",\"type\":\"GlyphRenderer\"}],\"title\":{\"id\":\"65e42165-b795-4388-8202-c87c0872eea7\",\"type\":\"Title\"},\"toolbar\":{\"id\":\"0789df17-10d1-4b2e-a129-fe34cdbf4c10\",\"type\":\"Toolbar\"},\"x_range\":{\"id\":\"a7c22a70-9bf1-4e22-8004-1430bf7480a2\",\"type\":\"DataRange1d\"},\"x_scale\":{\"id\":\"94da5d59-9ae6-43f5-a323-dae072e6bcef\",\"type\":\"LinearScale\"},\"y_range\":{\"id\":\"68bf3f9a-a0b3-4c1e-aa98-e0c6688c4c89\",\"type\":\"DataRange1d\"},\"y_scale\":{\"id\":\"bfaaccd7-a42f-4d40-92e6-6d5d15536fae\",\"type\":\"LinearScale\"}},\"id\":\"6f7353d1-0e9e-4136-9a61-bedf90a930fa\",\"subtype\":\"Figure\",\"type\":\"Plot\"},{\"attributes\":{\"axis_label\":\"Petal Length\",\"formatter\":{\"id\":\"cb587d92-a58d-48db-afd5-b6aca3b5be94\",\"type\":\"BasicTickFormatter\"},\"plot\":{\"id\":\"6f7353d1-0e9e-4136-9a61-bedf90a930fa\",\"subtype\":\"Figure\",\"type\":\"Plot\"},\"ticker\":{\"id\":\"935d8616-fdfa-4404-b4a7-873ded20c550\",\"type\":\"BasicTicker\"}},\"id\":\"8b19c898-13d5-4c7b-80d2-3e60bc1624df\",\"type\":\"LinearAxis\"},{\"attributes\":{\"callback\":null,\"column_names\":[\"sepal_width\",\"sepal_length\",\"petal_length\",\"colors\",\"species\",\"petal_width\",\"index\"],\"data\":{\"colors\":[\"red\",\"red\",\"red\",\"red\",\"red\",\"red\",\"red\",\"red\",\"red\",\"red\",\"red\",\"red\",\"red\",\"red\",\"red\",\"red\",\"red\",\"red\",\"red\",\"red\",\"red\",\"red\",\"red\",\"red\",\"red\",\"red\",\"red\",\"red\",\"red\",\"red\",\"red\",\"red\",\"red\",\"red\",\"red\",\"red\",\"red\",\"red\",\"red\",\"red\",\"red\",\"red\",\"red\",\"red\",\"red\",\"red\",\"red\",\"red\",\"red\",\"red\",\"green\",\"green\",\"green\",\"green\",\"green\",\"green\",\"green\",\"green\",\"green\",\"green\",\"green\",\"green\",\"green\",\"green\",\"green\",\"green\",\"green\",\"green\",\"green\",\"green\",\"green\",\"green\",\"green\",\"green\",\"green\",\"green\",\"green\",\"green\",\"green\",\"green\",\"green\",\"green\",\"green\",\"green\",\"green\",\"green\",\"green\",\"green\",\"green\",\"green\",\"green\",\"green\",\"green\",\"green\",\"green\",\"green\",\"green\",\"green\",\"green\",\"green\",\"blue\",\"blue\",\"blue\",\"blue\",\"blue\",\"blue\",\"blue\",\"blue\",\"blue\",\"blue\",\"blue\",\"blue\",\"blue\",\"blue\",\"blue\",\"blue\",\"blue\",\"blue\",\"blue\",\"blue\",\"blue\",\"blue\",\"blue\",\"blue\",\"blue\",\"blue\",\"blue\",\"blue\",\"blue\",\"blue\",\"blue\",\"blue\",\"blue\",\"blue\",\"blue\",\"blue\",\"blue\",\"blue\",\"blue\",\"blue\",\"blue\",\"blue\",\"blue\",\"blue\",\"blue\",\"blue\",\"blue\",\"blue\",\"blue\",\"blue\"],\"index\":[0,1,2,3,4,5,6,7,8,9,10,11,12,13,14,15,16,17,18,19,20,21,22,23,24,25,26,27,28,29,30,31,32,33,34,35,36,37,38,39,40,41,42,43,44,45,46,47,48,49,50,51,52,53,54,55,56,57,58,59,60,61,62,63,64,65,66,67,68,69,70,71,72,73,74,75,76,77,78,79,80,81,82,83,84,85,86,87,88,89,90,91,92,93,94,95,96,97,98,99,100,101,102,103,104,105,106,107,108,109,110,111,112,113,114,115,116,117,118,119,120,121,122,123,124,125,126,127,128,129,130,131,132,133,134,135,136,137,138,139,140,141,142,143,144,145,146,147,148,149],\"petal_length\":{\"__ndarray__\":\"ZmZmZmZm9j9mZmZmZmb2P83MzMzMzPQ/AAAAAAAA+D9mZmZmZmb2PzMzMzMzM/s/ZmZmZmZm9j8AAAAAAAD4P2ZmZmZmZvY/AAAAAAAA+D8AAAAAAAD4P5qZmZmZmfk/ZmZmZmZm9j+amZmZmZnxPzMzMzMzM/M/AAAAAAAA+D/NzMzMzMz0P2ZmZmZmZvY/MzMzMzMz+z8AAAAAAAD4PzMzMzMzM/s/AAAAAAAA+D8AAAAAAADwPzMzMzMzM/s/ZmZmZmZm/j+amZmZmZn5P5qZmZmZmfk/AAAAAAAA+D9mZmZmZmb2P5qZmZmZmfk/mpmZmZmZ+T8AAAAAAAD4PwAAAAAAAPg/ZmZmZmZm9j8AAAAAAAD4PzMzMzMzM/M/zczMzMzM9D9mZmZmZmb2P83MzMzMzPQ/AAAAAAAA+D/NzMzMzMz0P83MzMzMzPQ/zczMzMzM9D+amZmZmZn5P2ZmZmZmZv4/ZmZmZmZm9j+amZmZmZn5P2ZmZmZmZvY/AAAAAAAA+D9mZmZmZmb2P83MzMzMzBJAAAAAAAAAEkCamZmZmZkTQAAAAAAAABBAZmZmZmZmEkAAAAAAAAASQM3MzMzMzBJAZmZmZmZmCkBmZmZmZmYSQDMzMzMzMw9AAAAAAAAADEDNzMzMzMwQQAAAAAAAABBAzczMzMzMEkDNzMzMzMwMQJqZmZmZmRFAAAAAAAAAEkBmZmZmZmYQQAAAAAAAABJAMzMzMzMzD0AzMzMzMzMTQAAAAAAAABBAmpmZmZmZE0DNzMzMzMwSQDMzMzMzMxFAmpmZmZmZEUAzMzMzMzMTQAAAAAAAABRAAAAAAAAAEkAAAAAAAAAMQGZmZmZmZg5AmpmZmZmZDUAzMzMzMzMPQGZmZmZmZhRAAAAAAAAAEkAAAAAAAAASQM3MzMzMzBJAmpmZmZmZEUBmZmZmZmYQQAAAAAAAABBAmpmZmZmZEUBmZmZmZmYSQAAAAAAAABBAZmZmZmZmCkDNzMzMzMwQQM3MzMzMzBBAzczMzMzMEEAzMzMzMzMRQAAAAAAAAAhAZmZmZmZmEEAAAAAAAAAYQGZmZmZmZhRAmpmZmZmZF0BmZmZmZmYWQDMzMzMzMxdAZmZmZmZmGkAAAAAAAAASQDMzMzMzMxlAMzMzMzMzF0BmZmZmZmYYQGZmZmZmZhRAMzMzMzMzFUAAAAAAAAAWQAAAAAAAABRAZmZmZmZmFEAzMzMzMzMVQAAAAAAAABZAzczMzMzMGkCamZmZmZkbQAAAAAAAABRAzczMzMzMFkCamZmZmZkTQM3MzMzMzBpAmpmZmZmZE0DNzMzMzMwWQAAAAAAAABhAMzMzMzMzE0CamZmZmZkTQGZmZmZmZhZAMzMzMzMzF0BmZmZmZmYYQJqZmZmZmRlAZmZmZmZmFkBmZmZmZmYUQGZmZmZmZhZAZmZmZmZmGEBmZmZmZmYWQAAAAAAAABZAMzMzMzMzE0CamZmZmZkVQGZmZmZmZhZAZmZmZmZmFEBmZmZmZmYUQJqZmZmZmRdAzczMzMzMFkDNzMzMzMwUQAAAAAAAABRAzczMzMzMFECamZmZmZkVQGZmZmZmZhRA\",\"dtype\":\"float64\",\"shape\":[150]},\"petal_width\":{\"__ndarray__\":\"mpmZmZmZyT+amZmZmZnJP5qZmZmZmck/mpmZmZmZyT+amZmZmZnJP5qZmZmZmdk/MzMzMzMz0z+amZmZmZnJP5qZmZmZmck/mpmZmZmZuT+amZmZmZnJP5qZmZmZmck/mpmZmZmZuT+amZmZmZm5P5qZmZmZmck/mpmZmZmZ2T+amZmZmZnZPzMzMzMzM9M/MzMzMzMz0z8zMzMzMzPTP5qZmZmZmck/mpmZmZmZ2T+amZmZmZnJPwAAAAAAAOA/mpmZmZmZyT+amZmZmZnJP5qZmZmZmdk/mpmZmZmZyT+amZmZmZnJP5qZmZmZmck/mpmZmZmZyT+amZmZmZnZP5qZmZmZmbk/mpmZmZmZyT+amZmZmZnJP5qZmZmZmck/mpmZmZmZyT+amZmZmZm5P5qZmZmZmck/mpmZmZmZyT8zMzMzMzPTPzMzMzMzM9M/mpmZmZmZyT8zMzMzMzPjP5qZmZmZmdk/MzMzMzMz0z+amZmZmZnJP5qZmZmZmck/mpmZmZmZyT+amZmZmZnJP2ZmZmZmZvY/AAAAAAAA+D8AAAAAAAD4P83MzMzMzPQ/AAAAAAAA+D/NzMzMzMz0P5qZmZmZmfk/AAAAAAAA8D/NzMzMzMz0P2ZmZmZmZvY/AAAAAAAA8D8AAAAAAAD4PwAAAAAAAPA/ZmZmZmZm9j/NzMzMzMz0P2ZmZmZmZvY/AAAAAAAA+D8AAAAAAADwPwAAAAAAAPg/mpmZmZmZ8T/NzMzMzMz8P83MzMzMzPQ/AAAAAAAA+D8zMzMzMzPzP83MzMzMzPQ/ZmZmZmZm9j9mZmZmZmb2PzMzMzMzM/s/AAAAAAAA+D8AAAAAAADwP5qZmZmZmfE/AAAAAAAA8D8zMzMzMzPzP5qZmZmZmfk/AAAAAAAA+D+amZmZmZn5PwAAAAAAAPg/zczMzMzM9D/NzMzMzMz0P83MzMzMzPQ/MzMzMzMz8z9mZmZmZmb2PzMzMzMzM/M/AAAAAAAA8D/NzMzMzMz0PzMzMzMzM/M/zczMzMzM9D/NzMzMzMz0P5qZmZmZmfE/zczMzMzM9D8AAAAAAAAEQGZmZmZmZv4/zczMzMzMAEDNzMzMzMz8P5qZmZmZmQFAzczMzMzMAEAzMzMzMzP7P83MzMzMzPw/zczMzMzM/D8AAAAAAAAEQAAAAAAAAABAZmZmZmZm/j/NzMzMzMwAQAAAAAAAAABAMzMzMzMzA0BmZmZmZmYCQM3MzMzMzPw/mpmZmZmZAUBmZmZmZmYCQAAAAAAAAPg/ZmZmZmZmAkAAAAAAAAAAQAAAAAAAAABAzczMzMzM/D/NzMzMzMwAQM3MzMzMzPw/zczMzMzM/D/NzMzMzMz8P83MzMzMzABAmpmZmZmZ+T9mZmZmZmb+PwAAAAAAAABAmpmZmZmZAUAAAAAAAAD4P2ZmZmZmZvY/ZmZmZmZmAkAzMzMzMzMDQM3MzMzMzPw/zczMzMzM/D/NzMzMzMwAQDMzMzMzMwNAZmZmZmZmAkBmZmZmZmb+P2ZmZmZmZgJAAAAAAAAABEBmZmZmZmYCQGZmZmZmZv4/AAAAAAAAAEBmZmZmZmYCQM3MzMzMzPw/\",\"dtype\":\"float64\",\"shape\":[150]},\"sepal_length\":{\"__ndarray__\":\"ZmZmZmZmFECamZmZmZkTQM3MzMzMzBJAZmZmZmZmEkAAAAAAAAAUQJqZmZmZmRVAZmZmZmZmEkAAAAAAAAAUQJqZmZmZmRFAmpmZmZmZE0CamZmZmZkVQDMzMzMzMxNAMzMzMzMzE0AzMzMzMzMRQDMzMzMzMxdAzczMzMzMFkCamZmZmZkVQGZmZmZmZhRAzczMzMzMFkBmZmZmZmYUQJqZmZmZmRVAZmZmZmZmFEBmZmZmZmYSQGZmZmZmZhRAMzMzMzMzE0AAAAAAAAAUQAAAAAAAABRAzczMzMzMFEDNzMzMzMwUQM3MzMzMzBJAMzMzMzMzE0CamZmZmZkVQM3MzMzMzBRAAAAAAAAAFkCamZmZmZkTQAAAAAAAABRAAAAAAAAAFkCamZmZmZkTQJqZmZmZmRFAZmZmZmZmFEAAAAAAAAAUQAAAAAAAABJAmpmZmZmZEUAAAAAAAAAUQGZmZmZmZhRAMzMzMzMzE0BmZmZmZmYUQGZmZmZmZhJAMzMzMzMzFUAAAAAAAAAUQAAAAAAAABxAmpmZmZmZGUCamZmZmZkbQAAAAAAAABZAAAAAAAAAGkDNzMzMzMwWQDMzMzMzMxlAmpmZmZmZE0BmZmZmZmYaQM3MzMzMzBRAAAAAAAAAFECamZmZmZkXQAAAAAAAABhAZmZmZmZmGEBmZmZmZmYWQM3MzMzMzBpAZmZmZmZmFkAzMzMzMzMXQM3MzMzMzBhAZmZmZmZmFkCamZmZmZkXQGZmZmZmZhhAMzMzMzMzGUBmZmZmZmYYQJqZmZmZmRlAZmZmZmZmGkAzMzMzMzMbQM3MzMzMzBpAAAAAAAAAGEDNzMzMzMwWQAAAAAAAABZAAAAAAAAAFkAzMzMzMzMXQAAAAAAAABhAmpmZmZmZFUAAAAAAAAAYQM3MzMzMzBpAMzMzMzMzGUBmZmZmZmYWQAAAAAAAABZAAAAAAAAAFkBmZmZmZmYYQDMzMzMzMxdAAAAAAAAAFEBmZmZmZmYWQM3MzMzMzBZAzczMzMzMFkDNzMzMzMwYQGZmZmZmZhRAzczMzMzMFkAzMzMzMzMZQDMzMzMzMxdAZmZmZmZmHEAzMzMzMzMZQAAAAAAAABpAZmZmZmZmHkCamZmZmZkTQDMzMzMzMx1AzczMzMzMGkDNzMzMzMwcQAAAAAAAABpAmpmZmZmZGUAzMzMzMzMbQM3MzMzMzBZAMzMzMzMzF0CamZmZmZkZQAAAAAAAABpAzczMzMzMHkDNzMzMzMweQAAAAAAAABhAmpmZmZmZG0BmZmZmZmYWQM3MzMzMzB5AMzMzMzMzGUDNzMzMzMwaQM3MzMzMzBxAzczMzMzMGEBmZmZmZmYYQJqZmZmZmRlAzczMzMzMHECamZmZmZkdQJqZmZmZmR9AmpmZmZmZGUAzMzMzMzMZQGZmZmZmZhhAzczMzMzMHkAzMzMzMzMZQJqZmZmZmRlAAAAAAAAAGECamZmZmZkbQM3MzMzMzBpAmpmZmZmZG0AzMzMzMzMXQDMzMzMzMxtAzczMzMzMGkDNzMzMzMwaQDMzMzMzMxlAAAAAAAAAGkDNzMzMzMwYQJqZmZmZmRdA\",\"dtype\":\"float64\",\"shape\":[150]},\"sepal_width\":{\"__ndarray__\":\"AAAAAAAADEAAAAAAAAAIQJqZmZmZmQlAzczMzMzMCEDNzMzMzMwMQDMzMzMzMw9AMzMzMzMzC0AzMzMzMzMLQDMzMzMzMwdAzczMzMzMCECamZmZmZkNQDMzMzMzMwtAAAAAAAAACEAAAAAAAAAIQAAAAAAAABBAmpmZmZmZEUAzMzMzMzMPQAAAAAAAAAxAZmZmZmZmDkBmZmZmZmYOQDMzMzMzMwtAmpmZmZmZDUDNzMzMzMwMQGZmZmZmZgpAMzMzMzMzC0AAAAAAAAAIQDMzMzMzMwtAAAAAAAAADEAzMzMzMzMLQJqZmZmZmQlAzczMzMzMCEAzMzMzMzMLQGZmZmZmZhBAzczMzMzMEEDNzMzMzMwIQJqZmZmZmQlAAAAAAAAADEDNzMzMzMwMQAAAAAAAAAhAMzMzMzMzC0AAAAAAAAAMQGZmZmZmZgJAmpmZmZmZCUAAAAAAAAAMQGZmZmZmZg5AAAAAAAAACEBmZmZmZmYOQJqZmZmZmQlAmpmZmZmZDUBmZmZmZmYKQJqZmZmZmQlAmpmZmZmZCUDNzMzMzMwIQGZmZmZmZgJAZmZmZmZmBkBmZmZmZmYGQGZmZmZmZgpAMzMzMzMzA0AzMzMzMzMHQJqZmZmZmQVAAAAAAAAAAEAAAAAAAAAIQJqZmZmZmQFAMzMzMzMzB0AzMzMzMzMHQM3MzMzMzAhAAAAAAAAACECamZmZmZkFQJqZmZmZmQFAAAAAAAAABECamZmZmZkJQGZmZmZmZgZAAAAAAAAABEBmZmZmZmYGQDMzMzMzMwdAAAAAAAAACEBmZmZmZmYGQAAAAAAAAAhAMzMzMzMzB0DNzMzMzMwEQDMzMzMzMwNAMzMzMzMzA0CamZmZmZkFQJqZmZmZmQVAAAAAAAAACEAzMzMzMzMLQM3MzMzMzAhAZmZmZmZmAkAAAAAAAAAIQAAAAAAAAARAzczMzMzMBEAAAAAAAAAIQM3MzMzMzARAZmZmZmZmAkCamZmZmZkFQAAAAAAAAAhAMzMzMzMzB0AzMzMzMzMHQAAAAAAAAARAZmZmZmZmBkBmZmZmZmYKQJqZmZmZmQVAAAAAAAAACEAzMzMzMzMHQAAAAAAAAAhAAAAAAAAACEAAAAAAAAAEQDMzMzMzMwdAAAAAAAAABEDNzMzMzMwMQJqZmZmZmQlAmpmZmZmZBUAAAAAAAAAIQAAAAAAAAARAZmZmZmZmBkCamZmZmZkJQAAAAAAAAAhAZmZmZmZmDkDNzMzMzMwEQJqZmZmZmQFAmpmZmZmZCUBmZmZmZmYGQGZmZmZmZgZAmpmZmZmZBUBmZmZmZmYKQJqZmZmZmQlAZmZmZmZmBkAAAAAAAAAIQGZmZmZmZgZAAAAAAAAACEBmZmZmZmYGQGZmZmZmZg5AZmZmZmZmBkBmZmZmZmYGQM3MzMzMzARAAAAAAAAACEAzMzMzMzMLQM3MzMzMzAhAAAAAAAAACEDNzMzMzMwIQM3MzMzMzAhAzczMzMzMCECamZmZmZkFQJqZmZmZmQlAZmZmZmZmCkAAAAAAAAAIQAAAAAAAAARAAAAAAAAACEAzMzMzMzMLQAAAAAAAAAhA\",\"dtype\":\"float64\",\"shape\":[150]},\"species\":[\"setosa\",\"setosa\",\"setosa\",\"setosa\",\"setosa\",\"setosa\",\"setosa\",\"setosa\",\"setosa\",\"setosa\",\"setosa\",\"setosa\",\"setosa\",\"setosa\",\"setosa\",\"setosa\",\"setosa\",\"setosa\",\"setosa\",\"setosa\",\"setosa\",\"setosa\",\"setosa\",\"setosa\",\"setosa\",\"setosa\",\"setosa\",\"setosa\",\"setosa\",\"setosa\",\"setosa\",\"setosa\",\"setosa\",\"setosa\",\"setosa\",\"setosa\",\"setosa\",\"setosa\",\"setosa\",\"setosa\",\"setosa\",\"setosa\",\"setosa\",\"setosa\",\"setosa\",\"setosa\",\"setosa\",\"setosa\",\"setosa\",\"setosa\",\"versicolor\",\"versicolor\",\"versicolor\",\"versicolor\",\"versicolor\",\"versicolor\",\"versicolor\",\"versicolor\",\"versicolor\",\"versicolor\",\"versicolor\",\"versicolor\",\"versicolor\",\"versicolor\",\"versicolor\",\"versicolor\",\"versicolor\",\"versicolor\",\"versicolor\",\"versicolor\",\"versicolor\",\"versicolor\",\"versicolor\",\"versicolor\",\"versicolor\",\"versicolor\",\"versicolor\",\"versicolor\",\"versicolor\",\"versicolor\",\"versicolor\",\"versicolor\",\"versicolor\",\"versicolor\",\"versicolor\",\"versicolor\",\"versicolor\",\"versicolor\",\"versicolor\",\"versicolor\",\"versicolor\",\"versicolor\",\"versicolor\",\"versicolor\",\"versicolor\",\"versicolor\",\"versicolor\",\"versicolor\",\"versicolor\",\"versicolor\",\"virginica\",\"virginica\",\"virginica\",\"virginica\",\"virginica\",\"virginica\",\"virginica\",\"virginica\",\"virginica\",\"virginica\",\"virginica\",\"virginica\",\"virginica\",\"virginica\",\"virginica\",\"virginica\",\"virginica\",\"virginica\",\"virginica\",\"virginica\",\"virginica\",\"virginica\",\"virginica\",\"virginica\",\"virginica\",\"virginica\",\"virginica\",\"virginica\",\"virginica\",\"virginica\",\"virginica\",\"virginica\",\"virginica\",\"virginica\",\"virginica\",\"virginica\",\"virginica\",\"virginica\",\"virginica\",\"virginica\",\"virginica\",\"virginica\",\"virginica\",\"virginica\",\"virginica\",\"virginica\",\"virginica\",\"virginica\",\"virginica\",\"virginica\"]},\"selected\":null,\"selection_policy\":null},\"id\":\"8c8b5151-3a60-4ad5-bfe2-bd8853fcbdd2\",\"type\":\"ColumnDataSource\"},{\"attributes\":{\"grid_line_color\":{\"value\":null},\"plot\":{\"id\":\"78815be7-1dfc-43b9-9d02-cf00fcf8d5a4\",\"subtype\":\"Figure\",\"type\":\"Plot\"},\"ticker\":{\"id\":\"5015be13-e86e-46b9-bbb5-c24f3268ac70\",\"type\":\"CategoricalTicker\"}},\"id\":\"0c31e95b-cdb7-4f03-88bd-426d07635bc3\",\"type\":\"Grid\"},{\"attributes\":{\"callback\":null},\"id\":\"68bf3f9a-a0b3-4c1e-aa98-e0c6688c4c89\",\"type\":\"DataRange1d\"},{\"attributes\":{\"callback\":null},\"id\":\"a7c22a70-9bf1-4e22-8004-1430bf7480a2\",\"type\":\"DataRange1d\"},{\"attributes\":{\"source\":{\"id\":\"8c8b5151-3a60-4ad5-bfe2-bd8853fcbdd2\",\"type\":\"ColumnDataSource\"}},\"id\":\"590e22eb-87fe-48ac-865d-b8d684af3d8b\",\"type\":\"CDSView\"},{\"attributes\":{\"data_source\":{\"id\":\"8c8b5151-3a60-4ad5-bfe2-bd8853fcbdd2\",\"type\":\"ColumnDataSource\"},\"glyph\":{\"id\":\"55ab1a3e-3ab5-4f26-8e92-73497a7b770e\",\"type\":\"Circle\"},\"hover_glyph\":null,\"muted_glyph\":null,\"nonselection_glyph\":{\"id\":\"805f1767-ad38-4609-993d-e37748f4add4\",\"type\":\"Circle\"},\"selection_glyph\":null,\"view\":{\"id\":\"590e22eb-87fe-48ac-865d-b8d684af3d8b\",\"type\":\"CDSView\"}},\"id\":\"1e92f14a-8326-4cd7-aad9-9576f756f30e\",\"type\":\"GlyphRenderer\"},{\"attributes\":{\"plot\":null,\"text\":\"Iris Morphology\"},\"id\":\"65e42165-b795-4388-8202-c87c0872eea7\",\"type\":\"Title\"},{\"attributes\":{\"items\":[{\"id\":\"04c84282-68cc-4519-ab85-f2df6da4cab8\",\"type\":\"LegendItem\"}],\"location\":\"top_center\",\"orientation\":\"horizontal\",\"plot\":{\"id\":\"78815be7-1dfc-43b9-9d02-cf00fcf8d5a4\",\"subtype\":\"Figure\",\"type\":\"Plot\"}},\"id\":\"05848c49-06ef-4283-a208-5beaca316859\",\"type\":\"Legend\"},{\"attributes\":{\"callback\":null,\"factors\":[\"Apples\",\"Pears\",\"Nectarines\",\"Plums\",\"Grapes\",\"Strawberries\"]},\"id\":\"2d9ab2de-dfff-413c-88c2-4e12ddf20ef9\",\"type\":\"FactorRange\"}],\"root_ids\":[\"6f7353d1-0e9e-4136-9a61-bedf90a930fa\",\"78815be7-1dfc-43b9-9d02-cf00fcf8d5a4\"]},\"title\":\"Bokeh Application\",\"version\":\"0.12.15\"}}';\n",
      "          var render_items = [{\"docid\":\"2d1dce01-3d45-4e46-adb9-4ccf93279083\",\"elementid\":\"ffd606f1-94ea-4f9c-a709-1d0a0a51b8d2\",\"modelid\":\"6f7353d1-0e9e-4136-9a61-bedf90a930fa\"},{\"docid\":\"2d1dce01-3d45-4e46-adb9-4ccf93279083\",\"elementid\":\"e01a1cf9-c508-42a5-beca-a8019858e8c9\",\"modelid\":\"78815be7-1dfc-43b9-9d02-cf00fcf8d5a4\"}];\n",
      "          root.Bokeh.embed.embed_items(docs_json, render_items);\n",
      "        \n",
      "          }\n",
      "          if (root.Bokeh !== undefined) {\n",
      "            embed_document(root);\n",
      "          } else {\n",
      "            var attempts = 0;\n",
      "            var timer = setInterval(function(root) {\n",
      "              if (root.Bokeh !== undefined) {\n",
      "                embed_document(root);\n",
      "                clearInterval(timer);\n",
      "              }\n",
      "              attempts++;\n",
      "              if (attempts > 100) {\n",
      "                console.log(\"Bokeh: ERROR: Unable to run BokehJS code because BokehJS library is missing\")\n",
      "                clearInterval(timer);\n",
      "              }\n",
      "            }, 10, root)\n",
      "          }\n",
      "        })(window);\n",
      "      });\n",
      "    };\n",
      "    if (document.readyState != \"loading\") fn();\n",
      "    else document.addEventListener(\"DOMContentLoaded\", fn);\n",
      "  })();\n",
      "</script>\n"
     ]
    }
   ],
   "source": [
    "from bokeh.embed import components\n",
    "\n",
    "script, div = components([p, q])\n",
    "print(script)"
   ]
  },
  {
   "cell_type": "code",
   "execution_count": 6,
   "metadata": {},
   "outputs": [
    {
     "name": "stdout",
     "output_type": "stream",
     "text": [
      "\n",
      "<div class=\"bk-root\">\n",
      "    <div class=\"bk-plotdiv\" id=\"ffd606f1-94ea-4f9c-a709-1d0a0a51b8d2\"></div>\n",
      "</div>\n"
     ]
    }
   ],
   "source": [
    "print(div[0])"
   ]
  },
  {
   "cell_type": "code",
   "execution_count": 7,
   "metadata": {},
   "outputs": [
    {
     "name": "stdout",
     "output_type": "stream",
     "text": [
      "\n",
      "<div class=\"bk-root\">\n",
      "    <div class=\"bk-plotdiv\" id=\"e01a1cf9-c508-42a5-beca-a8019858e8c9\"></div>\n",
      "</div>\n"
     ]
    }
   ],
   "source": [
    "print(div[1])"
   ]
  },
  {
   "cell_type": "code",
   "execution_count": null,
   "metadata": {},
   "outputs": [],
   "source": []
  }
 ],
 "metadata": {
  "kernelspec": {
   "display_name": "Python 3",
   "language": "python",
   "name": "python3"
  },
  "language_info": {
   "codemirror_mode": {
    "name": "ipython",
    "version": 3
   },
   "file_extension": ".py",
   "mimetype": "text/x-python",
   "name": "python",
   "nbconvert_exporter": "python",
   "pygments_lexer": "ipython3",
   "version": "3.5.5"
  }
 },
 "nbformat": 4,
 "nbformat_minor": 2
}
